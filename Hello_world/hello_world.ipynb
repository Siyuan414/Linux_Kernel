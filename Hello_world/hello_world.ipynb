{
 "cells": [
  {
   "cell_type": "code",
   "execution_count": null,
   "metadata": {},
   "outputs": [],
   "source": []
  },
  {
   "cell_type": "markdown",
   "metadata": {},
   "source": [
    "1. Install build-essential and relevant linux header packages. \n",
    "<br>sudo apt-get install build-essential linux-header-`uname -r` "
   ]
  },
  {
   "cell_type": "markdown",
   "metadata": {},
   "source": [
    "2. login as root\n",
    "<br> sudo -i"
   ]
  },
  {
   "cell_type": "markdown",
   "metadata": {},
   "source": [
    "3. create a new source dire\n",
    "<br> mkdir kernel_module"
   ]
  },
  {
   "cell_type": "markdown",
   "metadata": {},
   "source": [
    "4. create hello world kernel module named \"hello_world_mod.c\"\n",
    "<br> cd kernel_module\n",
    "<br> touch hello_world_mod.c"
   ]
  },
  {
   "cell_type": "markdown",
   "metadata": {},
   "source": [
    "5. coding in hello_world_mod.c\n",
    "<br>#include<linux/module.h>\n",
    "<br>#include<linux/kernel.h>\n",
    "\n",
    "<br>MODULE_LICENSE(\"GPL\");\n",
    "<br>MODULE_AUTHOR(\"Bharath Reddy\");\n",
    "<br>MODULE_DESCRIPTION(\"A simple hello world module\");\n",
    "<br>MODULE_VERSION(\"0.01\");\n",
    "\n",
    "<br>static int __init hello_mod_init(void)\n",
    "<br>{\n",
    "<br>        printk(KERN_ALERT \"Hello world from kernel!! \\n\");\n",
    "    <br>    return 0;\n",
    "<br>}\n",
    "\n",
    "<br>static void __exit hello_mod_exit(void)\n",
    "<br>{\n",
    "    <br>     printk(KERN_ALERT \"Exiting hello world module from kernel !!!\\n\");\n",
    "<br>}\n",
    "\n",
    "<br>module_init(hello_mod_init);\n",
    "<br>module_exit(hello_mod_exit);\n",
    "\n",
    "\n",
    "\n"
   ]
  },
  {
   "cell_type": "markdown",
   "metadata": {},
   "source": [
    "6. create Makefile\n",
    "<br>obj-m += hello_world_mod.o\n",
    "\n",
    "<br>all:\n",
    "<br>     make -C /lib/modules/$(shell uname -r)/build M=$(PWD) modules\n",
    "\n",
    "<br>clean:\n",
    "<br>        make -C /lib/modules/$(shell uname -r)/build M=$(PWD) clean"
   ]
  },
  {
   "cell_type": "markdown",
   "metadata": {},
   "source": [
    "7. make all\n"
   ]
  },
  {
   "cell_type": "markdown",
   "metadata": {},
   "source": [
    "8. dmesg -c"
   ]
  },
  {
   "cell_type": "markdown",
   "metadata": {},
   "source": []
  }
 ],
 "metadata": {
  "language_info": {
   "name": "python"
  },
  "orig_nbformat": 4
 },
 "nbformat": 4,
 "nbformat_minor": 2
}
